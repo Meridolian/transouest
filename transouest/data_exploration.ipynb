{
 "cells": [
  {
   "cell_type": "code",
   "execution_count": 1,
   "id": "eca1b869",
   "metadata": {},
   "outputs": [],
   "source": [
    "import pandas as pd"
   ]
  },
  {
   "cell_type": "code",
   "execution_count": 5,
   "id": "a5931c24",
   "metadata": {},
   "outputs": [],
   "source": [
    "lines_file = \"data_files/listeLignes.xlsx\"\n",
    "stops_file = \"data_files/nomArret.csv\""
   ]
  },
  {
   "cell_type": "code",
   "execution_count": 10,
   "id": "8c2ab948",
   "metadata": {},
   "outputs": [],
   "source": [
    "lines = pd.read_excel(lines_file)\n",
    "stops = pd.read_csv(stops_file, sep=\";\")"
   ]
  },
  {
   "cell_type": "markdown",
   "id": "37e1ff43",
   "metadata": {},
   "source": [
    "# Explore Lines"
   ]
  },
  {
   "cell_type": "code",
   "execution_count": 11,
   "id": "fc24c9b5",
   "metadata": {},
   "outputs": [
    {
     "data": {
      "text/html": [
       "<div>\n",
       "<style scoped>\n",
       "    .dataframe tbody tr th:only-of-type {\n",
       "        vertical-align: middle;\n",
       "    }\n",
       "\n",
       "    .dataframe tbody tr th {\n",
       "        vertical-align: top;\n",
       "    }\n",
       "\n",
       "    .dataframe thead th {\n",
       "        text-align: right;\n",
       "    }\n",
       "</style>\n",
       "<table border=\"1\" class=\"dataframe\">\n",
       "  <thead>\n",
       "    <tr style=\"text-align: right;\">\n",
       "      <th></th>\n",
       "      <th>Identifiant</th>\n",
       "      <th>Nom court</th>\n",
       "      <th>Nom long</th>\n",
       "      <th>Famille commerciale</th>\n",
       "    </tr>\n",
       "  </thead>\n",
       "  <tbody>\n",
       "    <tr>\n",
       "      <th>0</th>\n",
       "      <td>1</td>\n",
       "      <td>C1</td>\n",
       "      <td>Cesson-Sévigné (Champs Blancs) &lt;&gt; Rennes  &lt;&gt; C...</td>\n",
       "      <td>CHRONOSTAR</td>\n",
       "    </tr>\n",
       "    <tr>\n",
       "      <th>1</th>\n",
       "      <td>4</td>\n",
       "      <td>C4</td>\n",
       "      <td>Rennes (ZA Saint-Sulpice) &lt;&gt; Saint-Grégoire (G...</td>\n",
       "      <td>CHRONOSTAR</td>\n",
       "    </tr>\n",
       "    <tr>\n",
       "      <th>2</th>\n",
       "      <td>5</td>\n",
       "      <td>C5</td>\n",
       "      <td>Rennes (Patton) &lt;&gt; Rennes (Lycée Bréquigny)</td>\n",
       "      <td>CHRONOSTAR</td>\n",
       "    </tr>\n",
       "    <tr>\n",
       "      <th>3</th>\n",
       "      <td>11</td>\n",
       "      <td>11</td>\n",
       "      <td>Rennes (La Poterie) &lt;&gt; Vezin-le-Coquet (ZI Ouest)</td>\n",
       "      <td>Urbaine</td>\n",
       "    </tr>\n",
       "    <tr>\n",
       "      <th>4</th>\n",
       "      <td>12</td>\n",
       "      <td>12</td>\n",
       "      <td>Rennes (Villejean-Université) &lt;&gt; Saint-Grégoir...</td>\n",
       "      <td>Urbaine</td>\n",
       "    </tr>\n",
       "    <tr>\n",
       "      <th>...</th>\n",
       "      <td>...</td>\n",
       "      <td>...</td>\n",
       "      <td>...</td>\n",
       "      <td>...</td>\n",
       "    </tr>\n",
       "    <tr>\n",
       "      <th>160</th>\n",
       "      <td>453</td>\n",
       "      <td>Ts53</td>\n",
       "      <td>Saint-Erblon (Collège Saint-Paul) &lt;&gt; Orgères &lt;...</td>\n",
       "      <td>Transport scolaire</td>\n",
       "    </tr>\n",
       "    <tr>\n",
       "      <th>161</th>\n",
       "      <td>461</td>\n",
       "      <td>Ts61</td>\n",
       "      <td>Cesson-Sévigné (Cesson Piscine) &lt;&gt; Cesson-Sévi...</td>\n",
       "      <td>Transport scolaire</td>\n",
       "    </tr>\n",
       "    <tr>\n",
       "      <th>162</th>\n",
       "      <td>467</td>\n",
       "      <td>Ts67</td>\n",
       "      <td>Saint-Gilles (Haute Fresnais) &lt;&gt; L'Hermitage &lt;...</td>\n",
       "      <td>Transport scolaire</td>\n",
       "    </tr>\n",
       "    <tr>\n",
       "      <th>163</th>\n",
       "      <td>470</td>\n",
       "      <td>RPI-1</td>\n",
       "      <td>La Chapelle-Chaussée (Chapelle-Chaussée) &lt;&gt; Bé...</td>\n",
       "      <td>Transport scolaire</td>\n",
       "    </tr>\n",
       "    <tr>\n",
       "      <th>164</th>\n",
       "      <td>803</td>\n",
       "      <td>API</td>\n",
       "      <td>Api'Bus : Rennes (République) &lt;&gt; Rennes (Etang...</td>\n",
       "      <td>Spéciale</td>\n",
       "    </tr>\n",
       "  </tbody>\n",
       "</table>\n",
       "<p>165 rows × 4 columns</p>\n",
       "</div>"
      ],
      "text/plain": [
       "     Identifiant Nom court                                           Nom long  \\\n",
       "0              1        C1  Cesson-Sévigné (Champs Blancs) <> Rennes  <> C...   \n",
       "1              4        C4  Rennes (ZA Saint-Sulpice) <> Saint-Grégoire (G...   \n",
       "2              5        C5        Rennes (Patton) <> Rennes (Lycée Bréquigny)   \n",
       "3             11        11  Rennes (La Poterie) <> Vezin-le-Coquet (ZI Ouest)   \n",
       "4             12        12  Rennes (Villejean-Université) <> Saint-Grégoir...   \n",
       "..           ...       ...                                                ...   \n",
       "160          453      Ts53  Saint-Erblon (Collège Saint-Paul) <> Orgères <...   \n",
       "161          461      Ts61  Cesson-Sévigné (Cesson Piscine) <> Cesson-Sévi...   \n",
       "162          467      Ts67  Saint-Gilles (Haute Fresnais) <> L'Hermitage <...   \n",
       "163          470     RPI-1  La Chapelle-Chaussée (Chapelle-Chaussée) <> Bé...   \n",
       "164          803       API  Api'Bus : Rennes (République) <> Rennes (Etang...   \n",
       "\n",
       "    Famille commerciale  \n",
       "0            CHRONOSTAR  \n",
       "1            CHRONOSTAR  \n",
       "2            CHRONOSTAR  \n",
       "3               Urbaine  \n",
       "4               Urbaine  \n",
       "..                  ...  \n",
       "160  Transport scolaire  \n",
       "161  Transport scolaire  \n",
       "162  Transport scolaire  \n",
       "163  Transport scolaire  \n",
       "164            Spéciale  \n",
       "\n",
       "[165 rows x 4 columns]"
      ]
     },
     "execution_count": 11,
     "metadata": {},
     "output_type": "execute_result"
    }
   ],
   "source": [
    "lines"
   ]
  },
  {
   "cell_type": "code",
   "execution_count": 16,
   "id": "bec8b582",
   "metadata": {},
   "outputs": [
    {
     "data": {
      "text/plain": [
       "Index(['Identifiant', 'Nom court', 'Nom long', 'Famille commerciale'], dtype='object')"
      ]
     },
     "execution_count": 16,
     "metadata": {},
     "output_type": "execute_result"
    }
   ],
   "source": [
    "lines.columns"
   ]
  },
  {
   "cell_type": "code",
   "execution_count": 15,
   "id": "63dd5906",
   "metadata": {},
   "outputs": [
    {
     "data": {
      "text/html": [
       "<div>\n",
       "<style scoped>\n",
       "    .dataframe tbody tr th:only-of-type {\n",
       "        vertical-align: middle;\n",
       "    }\n",
       "\n",
       "    .dataframe tbody tr th {\n",
       "        vertical-align: top;\n",
       "    }\n",
       "\n",
       "    .dataframe thead th {\n",
       "        text-align: right;\n",
       "    }\n",
       "</style>\n",
       "<table border=\"1\" class=\"dataframe\">\n",
       "  <thead>\n",
       "    <tr style=\"text-align: right;\">\n",
       "      <th></th>\n",
       "      <th>Identifiant</th>\n",
       "      <th>Nom court</th>\n",
       "      <th>Nom long</th>\n",
       "      <th>Famille commerciale</th>\n",
       "    </tr>\n",
       "  </thead>\n",
       "  <tbody>\n",
       "    <tr>\n",
       "      <th>1</th>\n",
       "      <td>4</td>\n",
       "      <td>C4</td>\n",
       "      <td>Rennes (ZA Saint-Sulpice) &lt;&gt; Saint-Grégoire (G...</td>\n",
       "      <td>CHRONOSTAR</td>\n",
       "    </tr>\n",
       "  </tbody>\n",
       "</table>\n",
       "</div>"
      ],
      "text/plain": [
       "   Identifiant Nom court                                           Nom long  \\\n",
       "1            4        C4  Rennes (ZA Saint-Sulpice) <> Saint-Grégoire (G...   \n",
       "\n",
       "  Famille commerciale  \n",
       "1          CHRONOSTAR  "
      ]
     },
     "execution_count": 15,
     "metadata": {},
     "output_type": "execute_result"
    }
   ],
   "source": [
    "c4 = lines.loc[lines[\"Nom court\"] == \"C4\"]"
   ]
  },
  {
   "cell_type": "markdown",
   "id": "d32e1436",
   "metadata": {},
   "source": [
    "# Explore Stops"
   ]
  },
  {
   "cell_type": "code",
   "execution_count": null,
   "id": "ffe7e30b",
   "metadata": {},
   "outputs": [],
   "source": []
  }
 ],
 "metadata": {
  "kernelspec": {
   "display_name": "Python 3 (ipykernel)",
   "language": "python",
   "name": "python3"
  },
  "language_info": {
   "codemirror_mode": {
    "name": "ipython",
    "version": 3
   },
   "file_extension": ".py",
   "mimetype": "text/x-python",
   "name": "python",
   "nbconvert_exporter": "python",
   "pygments_lexer": "ipython3",
   "version": "3.8.12"
  }
 },
 "nbformat": 4,
 "nbformat_minor": 5
}
